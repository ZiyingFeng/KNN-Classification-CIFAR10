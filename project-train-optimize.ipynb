{
 "cells": [
  {
   "cell_type": "code",
   "execution_count": 2,
   "metadata": {},
   "outputs": [
    {
     "name": "stdout",
     "output_type": "stream",
     "text": [
      "/Users/ziyingfeng/Dropbox/data incubator\n"
     ]
    }
   ],
   "source": [
    "import os\n",
    "print(os.getcwd())"
   ]
  },
  {
   "cell_type": "code",
   "execution_count": 3,
   "metadata": {},
   "outputs": [],
   "source": [
    "os.chdir('/Users/ziyingfeng/Dropbox/data incubator/project')"
   ]
  },
  {
   "cell_type": "code",
   "execution_count": 4,
   "metadata": {},
   "outputs": [],
   "source": [
    "import numpy as np # for doing most of our calculations\n",
    "import matplotlib.pyplot as plt# for plotting\n",
    "from utils.data_utils import load_CIFAR10 # function to load the CIFAR-10 dataset.\n",
    "\n",
    "# Load matplotlib images inline\n",
    "%matplotlib inline\n",
    "%load_ext autoreload\n",
    "%autoreload 2"
   ]
  },
  {
   "cell_type": "code",
   "execution_count": 5,
   "metadata": {},
   "outputs": [],
   "source": [
    "# Set the path to the CIFAR-10 data\n",
    "cifar10_dir = 'cifar-10-batches-py'\n",
    "X_train, y_train, X_test, y_test = load_CIFAR10(cifar10_dir)"
   ]
  },
  {
   "cell_type": "code",
   "execution_count": 6,
   "metadata": {},
   "outputs": [
    {
     "name": "stdout",
     "output_type": "stream",
     "text": [
      "(5000, 3072) (500, 3072)\n"
     ]
    }
   ],
   "source": [
    "# Subsample the data for more efficient code execution in this exercise\n",
    "num_training = 5000\n",
    "mask = list(range(num_training))\n",
    "X_train = X_train[mask]\n",
    "y_train = y_train[mask]\n",
    "\n",
    "num_test = 500\n",
    "mask = list(range(num_test))\n",
    "X_test = X_test[mask]\n",
    "y_test = y_test[mask]\n",
    "\n",
    "# Reshape the image data into rows\n",
    "X_train = np.reshape(X_train, (X_train.shape[0], -1))\n",
    "X_test = np.reshape(X_test, (X_test.shape[0], -1))\n",
    "print(X_train.shape, X_test.shape)"
   ]
  },
  {
   "cell_type": "markdown",
   "metadata": {},
   "source": [
    "## Vectorized KNN prediction"
   ]
  },
  {
   "cell_type": "code",
   "execution_count": 12,
   "metadata": {},
   "outputs": [],
   "source": [
    "import numpy as np\n",
    "import pdb\n",
    "\n",
    "\n",
    "class KNN(object):\n",
    "\n",
    "    def __init__(self):\n",
    "        pass\n",
    "\n",
    "    def train(self, X, y):\n",
    "        \"\"\"\n",
    "        Inputs:\n",
    "        - X is a numpy array of size (num_examples, D)\n",
    "        - y is a numpy array of size (num_examples, )\n",
    "        \"\"\"\n",
    "        self.X_train = X\n",
    "        self.y_train = y\n",
    "\n",
    "    def compute_distances(self, X, norm=None):\n",
    "        \"\"\"\n",
    "        Compute the distance between each test point in X and each training point\n",
    "        in self.X_train.\n",
    "\n",
    "        Inputs:\n",
    "        - X: A numpy array of shape (num_test, D) containing test data.\n",
    "        - norm: the function with which the norm is taken.\n",
    "\n",
    "        Returns:\n",
    "        - dists: A numpy array of shape (num_test, num_train) where dists[i, j]\n",
    "          is the Euclidean distance between the ith test point and the jth training\n",
    "          point.\n",
    "        \"\"\"\n",
    "        if norm is None:\n",
    "            norm = lambda x: np.sqrt(np.sum(x**2))\n",
    "            #norm = 2\n",
    "\n",
    "        num_test = X.shape[0]\n",
    "        num_train = self.X_train.shape[0]\n",
    "        dists = np.zeros((num_test, num_train))\n",
    "        for i in np.arange(num_test):\n",
    "\n",
    "            for j in np.arange(num_train):\n",
    "\n",
    "                dists[i,j] = norm(X[i] - self.X_train[j])\n",
    "\n",
    "        return dists\n",
    "\n",
    "    def compute_L2_distances_vectorized(self, X):\n",
    "        \"\"\"\n",
    "        Compute the distance between each test point in X and each training point\n",
    "        in self.X_train WITHOUT using any for loops.\n",
    "\n",
    "        Inputs:\n",
    "        - X: A numpy array of shape (num_test, D) containing test data.\n",
    "\n",
    "        Returns:\n",
    "        - dists: A numpy array of shape (num_test, num_train) where dists[i, j]\n",
    "          is the Euclidean distance between the ith test point and the jth training\n",
    "          point.\n",
    "        \"\"\"\n",
    "        num_test = X.shape[0]\n",
    "        num_train = self.X_train.shape[0]\n",
    "        dists = np.zeros((num_test, num_train))\n",
    "\n",
    "\n",
    "        #Intuitively: Distance = sqrt( (X - Y)^2) = sqrt((X^2 + Y^2 - 2XY))\n",
    "        #square the train's and test's values  X^2, Y^2    \n",
    "        X_2 = np.sum(X ** 2, axis = 1)\n",
    "        train_2 = np.sum(self.X_train ** 2, axis = 1)\n",
    "\n",
    "        #make the shapes compatatible\n",
    "        X_2_repeat = np.array([X_2] * self.X_train.shape[0]).T\n",
    "        train_2_repeat = np.array([train_2] * X.shape[0])\n",
    "\n",
    "        #XY\n",
    "        X_dot_train = X.dot(self.X_train.T)\n",
    "\n",
    "        #(x^2 + y^2 - 2xy)\n",
    "        dists = np.sqrt(X_2_repeat + train_2_repeat - 2 * X_dot_train)\n",
    "\n",
    "\n",
    "        return dists\n",
    "\n",
    "\n",
    "    def predict_labels(self, dists, k=1):\n",
    "        \"\"\"\n",
    "        Given a matrix of distances between test points and training points,\n",
    "        predict a label for each test point.\n",
    "\n",
    "        Inputs:\n",
    "        - dists: A numpy array of shape (num_test, num_train) where dists[i, j]\n",
    "          gives the distance betwen the ith test point and the jth training point.\n",
    "\n",
    "        Returns:\n",
    "        - y: A numpy array of shape (num_test,) containing predicted labels for the\n",
    "          test data, where y[i] is the predicted label for the test point X[i].  \n",
    "        \"\"\"\n",
    "        num_test = dists.shape[0]\n",
    "        y_pred = np.zeros(num_test)\n",
    "        for i in np.arange(num_test):\n",
    "          # A list of length k storing the labels of the k nearest neighbors to\n",
    "          # the ith test point.\n",
    "            closest_y = []\n",
    "\n",
    "            dist_sort = np.argsort(dists[i])\n",
    "            nearest_point_idx_in_Xtrain = dist_sort[:k]\n",
    "            closest_y = self.y_train[nearest_point_idx_in_Xtrain]\n",
    "            y_pred[i] = np.argmax(np.bincount(closest_y))\n",
    "\n",
    "        return y_pred\n",
    "\n"
   ]
  },
  {
   "cell_type": "code",
   "execution_count": 18,
   "metadata": {},
   "outputs": [],
   "source": [
    "# Declare an instance of the knn class.\n",
    "\n",
    "knn = KNN()\n",
    "\n",
    "# Train the classifier.\n",
    "\n",
    "knn.train(X=X_train, y=y_train)"
   ]
  },
  {
   "cell_type": "code",
   "execution_count": 22,
   "metadata": {},
   "outputs": [
    {
     "name": "stdout",
     "output_type": "stream",
     "text": [
      "Frobenius norm of L2 distances: 7906696.077040902\n"
     ]
    }
   ],
   "source": [
    "# Implement the function compute_L2_distances_vectorized() in the KNN class.\n",
    "# In this function, you ought to achieve the same L2 distance but WITHOUT any for loops.\n",
    "# Note, this is SPECIFIC for the L2 norm.\n",
    "\n",
    "dists_L2_vectorized = knn.compute_L2_distances_vectorized(X=X_test)\n",
    "print('Frobenius norm of L2 distances: {}'.format(np.linalg.norm(dists_L2_vectorized, 'fro')))"
   ]
  },
  {
   "cell_type": "code",
   "execution_count": 23,
   "metadata": {},
   "outputs": [
    {
     "name": "stdout",
     "output_type": "stream",
     "text": [
      "0.726\n"
     ]
    }
   ],
   "source": [
    "# Implement the function predict_labels in the KNN class.\n",
    "# Calculate the training error (num_incorrect / total_samples) \n",
    "# from running knn.predict_labels with k=1\n",
    "\n",
    "error = 1\n",
    "\n",
    "# ================================================================ #\n",
    "#   Calculate the error rate by calling predict_labels on the test \n",
    "#   data with k = 1.  Store the error rate in the variable error.\n",
    "# ================================================================ #\n",
    "error = 1.0*np.sum((knn.predict_labels(dists = dists_L2_vectorized) - y_test) != 0) / y_test.shape[0]\n",
    "y_pred = knn.predict_labels(dists = dists_L2_vectorized)\n",
    "\n",
    "print(error)"
   ]
  },
  {
   "cell_type": "markdown",
   "metadata": {},
   "source": [
    "This means that the k-nearest neighbors classifier is right 27.4% of the time, which is not great, considering that chance levels are 10%."
   ]
  },
  {
   "cell_type": "markdown",
   "metadata": {},
   "source": [
    "# Optimizing KNN hyperparameters\n",
    "\n",
    "Take the KNN classifier that you have constructed and perform cross-validation to choose a best value of $k$."
   ]
  },
  {
   "cell_type": "markdown",
   "metadata": {},
   "source": [
    "### Create training and validation folds\n",
    "\n",
    "create the training and validation folds for use in k-fold cross validation."
   ]
  },
  {
   "cell_type": "code",
   "execution_count": 26,
   "metadata": {},
   "outputs": [
    {
     "data": {
      "text/plain": [
       "1000"
      ]
     },
     "execution_count": 26,
     "metadata": {},
     "output_type": "execute_result"
    }
   ],
   "source": [
    "# Create the dataset folds for cross-valdiation.\n",
    "num_folds = 5\n",
    "\n",
    "X_train_folds = []\n",
    "y_train_folds =  []\n",
    "\n",
    "# ================================================================ #\n",
    "#   Split the training data into num_folds (i.e., 5) folds.\n",
    "#   X_train_folds is a list, where X_train_folds[i] contains the \n",
    "#   data points in fold i.\n",
    "#   y_train_folds is also a list, where y_train_folds[i] contains\n",
    "#   the corresponding labels for the data in X_train_folds[i]\n",
    "# ================================================================ #\n",
    "\n",
    "X_test_fold = []\n",
    "y_test_fold = []\n",
    "\n",
    "num_train = X_train.shape[0]\n",
    "cv_idx = np.arange(num_train)\n",
    "np.random.shuffle(cv_idx)\n",
    "fold_size = num_train // num_folds\n",
    "for i in np.arange(num_folds):\n",
    "    test_idx = cv_idx[i*fold_size : (i+1)*fold_size]\n",
    "    train_idx = np.concatenate((cv_idx[:i*fold_size], cv_idx[(i+1)*fold_size:]))\n",
    "    X_train_folds.append(X_train[train_idx])\n",
    "    y_train_folds.append(y_train[train_idx])\n",
    "    X_test_fold.append(X_train[test_idx])\n",
    "    y_test_fold.append(y_train[test_idx])\n",
    "\n",
    "\n",
    "len(X_train_folds)\n",
    "X_test_fold[1].shape[0]"
   ]
  },
  {
   "cell_type": "markdown",
   "metadata": {},
   "source": [
    "### Optimizing the number of nearest neighbors hyperparameter.\n",
    "\n",
    "select different numbers of nearest neighbors and assess which one has the lowest k-fold cross validation error."
   ]
  },
  {
   "cell_type": "code",
   "execution_count": 29,
   "metadata": {},
   "outputs": [
    {
     "data": {
      "text/plain": [
       "Text(0, 0.5, 'error')"
      ]
     },
     "execution_count": 29,
     "metadata": {},
     "output_type": "execute_result"
    },
    {
     "data": {
      "image/png": "[encoded data removed]",
      "text/plain": [
       "<Figure size 432x288 with 1 Axes>"
      ]
     },
     "metadata": {
      "needs_background": "light"
     },
     "output_type": "display_data"
    }
   ],
   "source": [
    "ks = [1, 2, 3, 5, 7, 10, 15, 20, 25, 30]\n",
    "\n",
    "# ================================================================ #\n",
    "#   Calculate the cross-validation error for each k in ks, testing\n",
    "#   the trained model on each of the 5 folds.  Average these errors\n",
    "#   together and make a plot of k vs. cross-validation error. Since \n",
    "#   we are assuming L2 distance here, please use the vectorized code!\n",
    "#   Otherwise, you might be waiting a long time.\n",
    "# ================================================================ #\n",
    "train_error, val_error = (np.zeros(len(ks)), np.zeros(len(ks)))\n",
    "k_idx = 0\n",
    "for k in ks:    \n",
    "    for i in np.arange(num_folds):\n",
    "        knn.train(X=X_train_folds[i], y=y_train_folds[i])\n",
    "        dists_L2_vectorized = knn.compute_L2_distances_vectorized(X = X_test_fold[i])\n",
    "        y_pred = knn.predict_labels(dists = dists_L2_vectorized, k = k)\n",
    "        val_error[k_idx] += np.sum((y_pred - y_test_fold[i]) != 0) / y_test_fold[i].shape[0]        \n",
    "    val_error[k_idx] = 1.0*val_error[k_idx]/num_folds\n",
    "    k_idx += 1\n",
    "        \n",
    "plt.plot(ks, val_error)\n",
    "plt.xlabel('k')\n",
    "plt.ylabel('error')\n"
   ]
  },
  {
   "cell_type": "code",
   "execution_count": 32,
   "metadata": {},
   "outputs": [
    {
     "data": {
      "text/plain": [
       "15"
      ]
     },
     "execution_count": 32,
     "metadata": {},
     "output_type": "execute_result"
    }
   ],
   "source": [
    "ks[np.argmin(val_error)]"
   ]
  },
  {
   "cell_type": "markdown",
   "metadata": {},
   "source": [
    "value of 15 is best amongst the tested $k$'s"
   ]
  },
  {
   "cell_type": "markdown",
   "metadata": {},
   "source": [
    "### Optimizing the norm\n",
    "\n",
    "test three different norms (the 1, 2, and infinity norms) and see which distance metric results in the best cross-validation performance."
   ]
  },
  {
   "cell_type": "code",
   "execution_count": 36,
   "metadata": {},
   "outputs": [
    {
     "data": {
      "text/plain": [
       "Text(0, 0.5, 'error')"
      ]
     },
     "execution_count": 36,
     "metadata": {},
     "output_type": "execute_result"
    },
    {
     "data": {
      "image/png": "[encoded data removed]",
      "text/plain": [
       "<Figure size 432x288 with 1 Axes>"
      ]
     },
     "metadata": {
      "needs_background": "light"
     },
     "output_type": "display_data"
    }
   ],
   "source": [
    "\n",
    "L1_norm = lambda x: np.linalg.norm(x, ord=1)\n",
    "L2_norm = lambda x: np.linalg.norm(x, ord=2)\n",
    "Linf_norm = lambda x: np.linalg.norm(x, ord= np.inf)\n",
    "norms = [L1_norm, L2_norm, Linf_norm]\n",
    "\n",
    "# ================================================================ #\n",
    "#   Calculate the cross-validation error for each norm in norms, testing\n",
    "#   the trained model on each of the 5 folds.  Average these errors\n",
    "#   together and make a plot of the norm used vs the cross-validation error\n",
    "#   Use the best cross-validation k from the previous part.  \n",
    "#\n",
    "#   Feel free to use the compute_distances function.  We're testing just\n",
    "#   three norms, but be advised that this could still take some time.\n",
    "#   You're welcome to write a vectorized form of the L1- and Linf- norms\n",
    "#   to speed this up, but it is not necessary.\n",
    "# ================================================================ #\n",
    "\n",
    "\n",
    "train_error, val_error = (np.zeros(len(norms)), np.zeros(len(norms)))\n",
    "k_idx = 0\n",
    "for norm in norms:    \n",
    "    for i in np.arange(num_folds):\n",
    "        knn.train(X=X_train_folds[i], y=y_train_folds[i])\n",
    "        dists = knn.compute_distances(X_test_fold[i], norm)\n",
    "        y_pred = knn.predict_labels(dists, k=15)\n",
    "        val_error[k_idx] += np.sum((y_pred - y_test_fold[i]) != 0) / y_test_fold[i].shape[0]        \n",
    "    val_error[k_idx] = 1.0*val_error[k_idx]/num_folds\n",
    "    k_idx += 1\n",
    "        \n",
    "plt.plot(['l1','l2','linf'], val_error)\n",
    "plt.xlabel('norm name')\n",
    "plt.ylabel('error')\n"
   ]
  },
  {
   "cell_type": "code",
   "execution_count": null,
   "metadata": {},
   "outputs": [],
   "source": []
  }
 ],
 "metadata": {
  "kernelspec": {
   "display_name": "Python 3",
   "language": "python",
   "name": "python3"
  },
  "language_info": {
   "codemirror_mode": {
    "name": "ipython",
    "version": 3
   },
   "file_extension": ".py",
   "mimetype": "text/x-python",
   "name": "python",
   "nbconvert_exporter": "python",
   "pygments_lexer": "ipython3",
   "version": "3.7.1"
  }
 },
 "nbformat": 4,
 "nbformat_minor": 2
}
